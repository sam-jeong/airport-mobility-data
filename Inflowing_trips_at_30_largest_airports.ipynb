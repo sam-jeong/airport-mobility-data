{
 "cells": [
  {
   "cell_type": "markdown",
   "metadata": {},
   "source": [
    "# Scheduled Execution: Trips at 30 Largest Airports in the US\n",
    "* paas_cda.stops intersected with geographical POIs from dedicated.airports.airport_wkt"
   ]
  },
  {
   "cell_type": "code",
   "execution_count": 1,
   "metadata": {},
   "outputs": [],
   "source": [
    "import pandas as pd\n",
    "from keplergl import KeplerGl\n",
    "import getpass\n",
    "from pyhive import presto\n",
    "import matplotlib.pyplot as plt\n",
    "import plotly.express as px\n",
    "import numpy as np\n",
    "import os\n",
    "import sys\n",
    "import time\n",
    "from datetime import datetime, timedelta\n",
    "\n",
    "%reload_ext sql\n",
    "%config SqlMagic.autocommit=False\n",
    "%config SqlMagic.autolimit=0\n",
    "%config SqlMagic.displaylimit=200\n",
    "%config SqlMagic.autopandas=True"
   ]
  },
  {
   "cell_type": "code",
   "execution_count": 2,
   "metadata": {},
   "outputs": [],
   "source": [
    "# SQL engine\n",
    "connection = presto.connect(\n",
    "    host=\"localhost\",\n",
    "    port=9090,\n",
    "    catalog=\"cuebiq\"\n",
    ")\n",
    "\n",
    "def read_sql(query: str) -> pd.DataFrame:\n",
    "    return pd.read_sql(query, connection)"
   ]
  },
  {
   "cell_type": "code",
   "execution_count": 3,
   "metadata": {},
   "outputs": [
    {
     "data": {
      "text/plain": [
       "'Connected: @cuebiq/'"
      ]
     },
     "execution_count": 3,
     "metadata": {},
     "output_type": "execute_result"
    }
   ],
   "source": [
    "%sql presto://localhost:9090/cuebiq/"
   ]
  },
  {
   "cell_type": "code",
   "execution_count": 4,
   "metadata": {},
   "outputs": [],
   "source": [
    "pd.set_option('display.max_columns', None)\n",
    "pd.set_option('display.max_rows', 10)"
   ]
  },
  {
   "cell_type": "code",
   "execution_count": 5,
   "metadata": {},
   "outputs": [],
   "source": [
    "# operations on dates\n",
    "def get_dates_sequence(\n",
    "    date_start, \n",
    "    date_end, \n",
    "    date_format\n",
    "):\n",
    "    return [\n",
    "        (datetime.strptime(date_start, date_format) + timedelta(days=x)).strftime(date_format)\n",
    "        for x in range(\n",
    "            0, \n",
    "            (datetime.strptime(date_end, date_format) - datetime.strptime(date_start, date_format) + timedelta(days=1)).days\n",
    "        )\n",
    "    ]"
   ]
  },
  {
   "cell_type": "code",
   "execution_count": 6,
   "metadata": {},
   "outputs": [],
   "source": [
    "date_format = \"%Y-%m-%d\""
   ]
  },
  {
   "cell_type": "code",
   "execution_count": 7,
   "metadata": {},
   "outputs": [],
   "source": [
    "first_date = \"2021-04-01\""
   ]
  },
  {
   "cell_type": "code",
   "execution_count": 8,
   "metadata": {},
   "outputs": [],
   "source": [
    "last_date_to_compute = (datetime.now() - timedelta(days=1)).strftime(date_format)"
   ]
  },
  {
   "cell_type": "code",
   "execution_count": 9,
   "metadata": {},
   "outputs": [
    {
     "data": {
      "text/plain": [
       "'2021-04-08'"
      ]
     },
     "execution_count": 9,
     "metadata": {},
     "output_type": "execute_result"
    }
   ],
   "source": [
    "last_date_to_compute"
   ]
  },
  {
   "cell_type": "markdown",
   "metadata": {},
   "source": [
    "# Manage execution dates - come back to this later"
   ]
  },
  {
   "cell_type": "code",
   "execution_count": 10,
   "metadata": {},
   "outputs": [
    {
     "name": "stdout",
     "output_type": "stream",
     "text": [
      "\n",
      "            Last computed date: 2021-04-04\n",
      "            Computation will start from 2021-04-05\n",
      "            Computation will end at 2021-04-08\n",
      "            \n"
     ]
    }
   ],
   "source": [
    "last_computed_date = read_sql(\n",
    "    f'''\n",
    "    SELECT max(reference_date) \n",
    "    FROM dedicated.airports.inf_and_outf_trips\n",
    "    ''').iloc[0][0]\n",
    "\n",
    "if last_computed_date is None:\n",
    "    first_date_to_compute = first_date\n",
    "    message = f\"\"\"\n",
    "        No computed dates yet\n",
    "        Computation will start from {first_date_to_compute}\n",
    "        Computation will end at {last_date_to_compute}\n",
    "        \"\"\"\n",
    "else:\n",
    "    first_date_to_compute = datetime.strftime(\n",
    "        datetime.strptime(str(last_computed_date), date_format) + timedelta(days=1), \n",
    "        date_format\n",
    "    )\n",
    "    if first_date_to_compute > last_date_to_compute:\n",
    "        print(\"No dates to execute\")\n",
    "        sys.exit(0)\n",
    "    else:\n",
    "        message = f\"\"\"\n",
    "            Last computed date: {last_computed_date}\n",
    "            Computation will start from {first_date_to_compute}\n",
    "            Computation will end at {last_date_to_compute}\n",
    "            \"\"\"\n",
    "print(message)"
   ]
  },
  {
   "cell_type": "code",
   "execution_count": 11,
   "metadata": {},
   "outputs": [
    {
     "data": {
      "text/plain": [
       "['2021-04-05', '2021-04-06']"
      ]
     },
     "execution_count": 11,
     "metadata": {},
     "output_type": "execute_result"
    }
   ],
   "source": [
    "dates_to_compute = get_dates_sequence(first_date_to_compute, last_date_to_compute, date_format)\n",
    "dates_to_compute[:2]"
   ]
  },
  {
   "cell_type": "markdown",
   "metadata": {},
   "source": [
    "# Let's try to collect inflow and outflow data in one go"
   ]
  },
  {
   "cell_type": "code",
   "execution_count": null,
   "metadata": {},
   "outputs": [],
   "source": [
    "%%time\n",
    "%%sql inf_outf <<\n",
    "\n",
    "with trips as (select * from paas_mi.trip where reference_date = '2017-07-01'),\n",
    "\n",
    "airport_wkt as (select * from dedicated.airports.airport_wkt),\n",
    "\n",
    "tmp_1 as (select * from trips t inner join airport_wkt a on st_contains(st_geometryfromtext(a.geometry), st_point(t.next_lng, t.next_lat))),\n",
    "\n",
    "tmp_2 as (select * from trips t inner join airport_wkt a on st_contains(st_geometryfromtext(a.geometry), st_point(t.lng, t.lat))),\n",
    "\n",
    "inf as (select cuebiq_id,\n",
    "        trip_start_zoned_datetime,\n",
    "        next_zoned_datetime,\n",
    "        country_code,\n",
    "        next_country_code,\n",
    "        lat,\n",
    "        lng,\n",
    "        next_lat,\n",
    "        next_lng,\n",
    "        distance_meters,\n",
    "        time_distance_seconds,\n",
    "        home_known_flag,\n",
    "        work_known_flag,\n",
    "        starts_in_home_area_flag,\n",
    "        ends_in_home_area_flag,\n",
    "        reference_date,\n",
    "        city,\n",
    "        airport_name,\n",
    "        'INFLOW' as trip_type from tmp_1 where (not st_contains(st_geometryfromtext(tmp_1.geometry), st_point(tmp_1.lng, tmp_1.lat)))),\n",
    "\n",
    "outf as (select cuebiq_id,\n",
    "        trip_start_zoned_datetime,\n",
    "        next_zoned_datetime,\n",
    "        country_code,\n",
    "        next_country_code,\n",
    "        lat,\n",
    "        lng,\n",
    "        next_lat,\n",
    "        next_lng,\n",
    "        distance_meters,\n",
    "        time_distance_seconds,\n",
    "        home_known_flag,\n",
    "        work_known_flag,\n",
    "        starts_in_home_area_flag,\n",
    "        ends_in_home_area_flag,\n",
    "        reference_date,\n",
    "        city,\n",
    "        airport_name,\n",
    "        'OUTFLOW' as trip_type from tmp_2 where (not st_contains(st_geometryfromtext(tmp_2.geometry), st_point(tmp_2.next_lng, tmp_2.next_lat))))\n",
    "\n",
    "select * from inf\n",
    "union\n",
    "select * from outf"
   ]
  },
  {
   "cell_type": "markdown",
   "metadata": {},
   "source": [
    "-- success!"
   ]
  },
  {
   "cell_type": "markdown",
   "metadata": {},
   "source": [
    "# the above query in a string format"
   ]
  },
  {
   "cell_type": "code",
   "execution_count": 13,
   "metadata": {},
   "outputs": [],
   "source": [
    "query_inf_outf_trips = \"with trips as (select * from paas_mi.trip where reference_date = '%(i)s'), \\\n",
    "airport_wkt as (select * from dedicated.airports.airport_wkt), \\\n",
    "tmp_1 as (select * from trips t inner join airport_wkt a on st_contains(st_geometryfromtext(a.geometry), st_point(t.next_lng, t.next_lat))), \\\n",
    "tmp_2 as (select * from trips t inner join airport_wkt a on st_contains(st_geometryfromtext(a.geometry), st_point(t.lng, t.lat))), \\\n",
    "inf as (select cuebiq_id, \\\n",
    "        trip_start_zoned_datetime, \\\n",
    "        next_zoned_datetime, \\\n",
    "        country_code, \\\n",
    "        next_country_code, \\\n",
    "        lat, \\\n",
    "        lng, \\\n",
    "        next_lat, \\\n",
    "        next_lng, \\\n",
    "        distance_meters, \\\n",
    "        time_distance_seconds, \\\n",
    "        home_known_flag, \\\n",
    "        work_known_flag, \\\n",
    "        starts_in_home_area_flag, \\\n",
    "        ends_in_home_area_flag, \\\n",
    "        reference_date, \\\n",
    "        city, \\\n",
    "        airport_name, \\\n",
    "        'INFLOW' as trip_type from tmp_1 where (not st_contains(st_geometryfromtext(tmp_1.geometry), st_point(tmp_1.lng, tmp_1.lat)))), \\\n",
    "outf as (select cuebiq_id, \\\n",
    "        trip_start_zoned_datetime, \\\n",
    "        next_zoned_datetime, \\\n",
    "        country_code, \\\n",
    "        next_country_code, \\\n",
    "        lat, \\\n",
    "        lng, \\\n",
    "        next_lat, \\\n",
    "        next_lng, \\\n",
    "        distance_meters, \\\n",
    "        time_distance_seconds, \\\n",
    "        home_known_flag, \\\n",
    "        work_known_flag, \\\n",
    "        starts_in_home_area_flag, \\\n",
    "        ends_in_home_area_flag, \\\n",
    "        reference_date, \\\n",
    "        city, \\\n",
    "        airport_name, \\\n",
    "        'OUTFLOW' as trip_type from tmp_2 where (not st_contains(st_geometryfromtext(tmp_2.geometry), st_point(tmp_2.next_lng, tmp_2.next_lat)))) \\\n",
    "select * from inf \\\n",
    "union \\\n",
    "select * from outf\""
   ]
  },
  {
   "cell_type": "code",
   "execution_count": 14,
   "metadata": {},
   "outputs": [
    {
     "name": "stdout",
     "output_type": "stream",
     "text": [
      "Executing for 2021-04-05...\n",
      "with trips as (select * from paas_mi.trip where reference_date = '2021-04-05'), airport_wkt as (select * from dedicated.airports.airport_wkt), tmp_1 as (select * from trips t inner join airport_wkt a on st_contains(st_geometryfromtext(a.geometry), st_point(t.next_lng, t.next_lat))), tmp_2 as (select * from trips t inner join airport_wkt a on st_contains(st_geometryfromtext(a.geometry), st_point(t.lng, t.lat))), inf as (select cuebiq_id,         trip_start_zoned_datetime,         next_zoned_datetime,         country_code,         next_country_code,         lat,         lng,         next_lat,         next_lng,         distance_meters,         time_distance_seconds,         home_known_flag,         work_known_flag,         starts_in_home_area_flag,         ends_in_home_area_flag,         reference_date,         city,         airport_name,         'INFLOW' as trip_type from tmp_1 where (not st_contains(st_geometryfromtext(tmp_1.geometry), st_point(tmp_1.lng, tmp_1.lat)))), outf as (select cuebiq_id,         trip_start_zoned_datetime,         next_zoned_datetime,         country_code,         next_country_code,         lat,         lng,         next_lat,         next_lng,         distance_meters,         time_distance_seconds,         home_known_flag,         work_known_flag,         starts_in_home_area_flag,         ends_in_home_area_flag,         reference_date,         city,         airport_name,         'OUTFLOW' as trip_type from tmp_2 where (not st_contains(st_geometryfromtext(tmp_2.geometry), st_point(tmp_2.next_lng, tmp_2.next_lat)))) select * from inf union select * from outf\n",
      " * presto://localhost:9090/cuebiq/\n",
      "Done.\n",
      "created 0 rows\n",
      " * presto://localhost:9090/cuebiq/\n",
      "Done.\n",
      "inserted 182053 rows\n",
      "Executing for 2021-04-06...\n",
      "with trips as (select * from paas_mi.trip where reference_date = '2021-04-06'), airport_wkt as (select * from dedicated.airports.airport_wkt), tmp_1 as (select * from trips t inner join airport_wkt a on st_contains(st_geometryfromtext(a.geometry), st_point(t.next_lng, t.next_lat))), tmp_2 as (select * from trips t inner join airport_wkt a on st_contains(st_geometryfromtext(a.geometry), st_point(t.lng, t.lat))), inf as (select cuebiq_id,         trip_start_zoned_datetime,         next_zoned_datetime,         country_code,         next_country_code,         lat,         lng,         next_lat,         next_lng,         distance_meters,         time_distance_seconds,         home_known_flag,         work_known_flag,         starts_in_home_area_flag,         ends_in_home_area_flag,         reference_date,         city,         airport_name,         'INFLOW' as trip_type from tmp_1 where (not st_contains(st_geometryfromtext(tmp_1.geometry), st_point(tmp_1.lng, tmp_1.lat)))), outf as (select cuebiq_id,         trip_start_zoned_datetime,         next_zoned_datetime,         country_code,         next_country_code,         lat,         lng,         next_lat,         next_lng,         distance_meters,         time_distance_seconds,         home_known_flag,         work_known_flag,         starts_in_home_area_flag,         ends_in_home_area_flag,         reference_date,         city,         airport_name,         'OUTFLOW' as trip_type from tmp_2 where (not st_contains(st_geometryfromtext(tmp_2.geometry), st_point(tmp_2.next_lng, tmp_2.next_lat)))) select * from inf union select * from outf\n",
      " * presto://localhost:9090/cuebiq/\n",
      "Done.\n",
      "created 0 rows\n",
      " * presto://localhost:9090/cuebiq/\n",
      "Done.\n",
      "inserted 0 rows\n",
      "Executing for 2021-04-07...\n",
      "with trips as (select * from paas_mi.trip where reference_date = '2021-04-07'), airport_wkt as (select * from dedicated.airports.airport_wkt), tmp_1 as (select * from trips t inner join airport_wkt a on st_contains(st_geometryfromtext(a.geometry), st_point(t.next_lng, t.next_lat))), tmp_2 as (select * from trips t inner join airport_wkt a on st_contains(st_geometryfromtext(a.geometry), st_point(t.lng, t.lat))), inf as (select cuebiq_id,         trip_start_zoned_datetime,         next_zoned_datetime,         country_code,         next_country_code,         lat,         lng,         next_lat,         next_lng,         distance_meters,         time_distance_seconds,         home_known_flag,         work_known_flag,         starts_in_home_area_flag,         ends_in_home_area_flag,         reference_date,         city,         airport_name,         'INFLOW' as trip_type from tmp_1 where (not st_contains(st_geometryfromtext(tmp_1.geometry), st_point(tmp_1.lng, tmp_1.lat)))), outf as (select cuebiq_id,         trip_start_zoned_datetime,         next_zoned_datetime,         country_code,         next_country_code,         lat,         lng,         next_lat,         next_lng,         distance_meters,         time_distance_seconds,         home_known_flag,         work_known_flag,         starts_in_home_area_flag,         ends_in_home_area_flag,         reference_date,         city,         airport_name,         'OUTFLOW' as trip_type from tmp_2 where (not st_contains(st_geometryfromtext(tmp_2.geometry), st_point(tmp_2.next_lng, tmp_2.next_lat)))) select * from inf union select * from outf\n",
      " * presto://localhost:9090/cuebiq/\n",
      "Done.\n",
      "created 0 rows\n",
      " * presto://localhost:9090/cuebiq/\n",
      "Done.\n",
      "inserted 0 rows\n",
      "Executing for 2021-04-08...\n",
      "with trips as (select * from paas_mi.trip where reference_date = '2021-04-08'), airport_wkt as (select * from dedicated.airports.airport_wkt), tmp_1 as (select * from trips t inner join airport_wkt a on st_contains(st_geometryfromtext(a.geometry), st_point(t.next_lng, t.next_lat))), tmp_2 as (select * from trips t inner join airport_wkt a on st_contains(st_geometryfromtext(a.geometry), st_point(t.lng, t.lat))), inf as (select cuebiq_id,         trip_start_zoned_datetime,         next_zoned_datetime,         country_code,         next_country_code,         lat,         lng,         next_lat,         next_lng,         distance_meters,         time_distance_seconds,         home_known_flag,         work_known_flag,         starts_in_home_area_flag,         ends_in_home_area_flag,         reference_date,         city,         airport_name,         'INFLOW' as trip_type from tmp_1 where (not st_contains(st_geometryfromtext(tmp_1.geometry), st_point(tmp_1.lng, tmp_1.lat)))), outf as (select cuebiq_id,         trip_start_zoned_datetime,         next_zoned_datetime,         country_code,         next_country_code,         lat,         lng,         next_lat,         next_lng,         distance_meters,         time_distance_seconds,         home_known_flag,         work_known_flag,         starts_in_home_area_flag,         ends_in_home_area_flag,         reference_date,         city,         airport_name,         'OUTFLOW' as trip_type from tmp_2 where (not st_contains(st_geometryfromtext(tmp_2.geometry), st_point(tmp_2.next_lng, tmp_2.next_lat)))) select * from inf union select * from outf\n",
      " * presto://localhost:9090/cuebiq/\n",
      "Done.\n",
      "created 0 rows\n",
      " * presto://localhost:9090/cuebiq/\n",
      "Done.\n",
      "inserted 0 rows\n"
     ]
    }
   ],
   "source": [
    "for i in dates_to_compute:\n",
    "    print(f\"Executing for {i}...\")\n",
    "    query = query_inf_outf_trips % {'i':i}\n",
    "    print(query)\n",
    "    res = %sql create table if not exists dedicated.airports.inf_and_outf_trips as {query}\n",
    "    print(f\"created {res['rows'][0]} rows\")\n",
    "    succedeed=int(res['rows'][0])\n",
    "    if succedeed==0:\n",
    "        #first time you create if not insert\n",
    "        res= %sql insert into dedicated.airports.inf_and_outf_trips {query}\n",
    "        print(f\"inserted {res['rows'][0]} rows\")"
   ]
  },
  {
   "cell_type": "code",
   "execution_count": null,
   "metadata": {},
   "outputs": [],
   "source": []
  }
 ],
 "metadata": {
  "kernelspec": {
   "display_name": "Python 3",
   "language": "python",
   "name": "python3"
  },
  "language_info": {
   "codemirror_mode": {
    "name": "ipython",
    "version": 3
   },
   "file_extension": ".py",
   "mimetype": "text/x-python",
   "name": "python",
   "nbconvert_exporter": "python",
   "pygments_lexer": "ipython3",
   "version": "3.8.6"
  }
 },
 "nbformat": 4,
 "nbformat_minor": 4
}

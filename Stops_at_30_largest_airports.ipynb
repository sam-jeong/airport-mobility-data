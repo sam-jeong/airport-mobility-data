{
 "cells": [
  {
   "cell_type": "markdown",
   "metadata": {},
   "source": [
    "# Scheduled Execution: Stops at 30 Largest Airports in the US\n",
    "* paas_cda.stops intersected with geographical POIs from dedicated.airports.airport_wkt"
   ]
  },
  {
   "cell_type": "code",
   "execution_count": 1,
   "metadata": {},
   "outputs": [],
   "source": [
    "import pandas as pd\n",
    "from keplergl import KeplerGl\n",
    "import getpass\n",
    "from pyhive import presto\n",
    "import matplotlib.pyplot as plt\n",
    "import plotly.express as px\n",
    "import numpy as np\n",
    "import os\n",
    "import sys\n",
    "import time\n",
    "from datetime import datetime, timedelta\n",
    "\n",
    "%reload_ext sql\n",
    "%config SqlMagic.autocommit=False\n",
    "%config SqlMagic.autolimit=0\n",
    "%config SqlMagic.displaylimit=200\n",
    "%config SqlMagic.autopandas=True"
   ]
  },
  {
   "cell_type": "code",
   "execution_count": 2,
   "metadata": {},
   "outputs": [],
   "source": [
    "# SQL engine\n",
    "connection = presto.connect(\n",
    "    host=\"localhost\",\n",
    "    port=9090,\n",
    "    catalog=\"cuebiq\"\n",
    ")\n",
    "\n",
    "def read_sql(query: str) -> pd.DataFrame:\n",
    "    return pd.read_sql(query, connection)"
   ]
  },
  {
   "cell_type": "code",
   "execution_count": 3,
   "metadata": {},
   "outputs": [
    {
     "data": {
      "text/plain": [
       "'Connected: @cuebiq/'"
      ]
     },
     "execution_count": 3,
     "metadata": {},
     "output_type": "execute_result"
    }
   ],
   "source": [
    "%sql presto://localhost:9090/cuebiq/"
   ]
  },
  {
   "cell_type": "code",
   "execution_count": 4,
   "metadata": {},
   "outputs": [],
   "source": [
    "pd.set_option('display.max_columns', None)\n",
    "pd.set_option('display.max_rows', 10)"
   ]
  },
  {
   "cell_type": "code",
   "execution_count": 5,
   "metadata": {},
   "outputs": [],
   "source": [
    "# operations on dates\n",
    "def get_dates_sequence(\n",
    "    date_start, \n",
    "    date_end, \n",
    "    date_format\n",
    "):\n",
    "    return [\n",
    "        (datetime.strptime(date_start, date_format) + timedelta(days=x)).strftime(date_format)\n",
    "        for x in range(\n",
    "            0, \n",
    "            (datetime.strptime(date_end, date_format) - datetime.strptime(date_start, date_format) + timedelta(days=1)).days\n",
    "        )\n",
    "    ]"
   ]
  },
  {
   "cell_type": "code",
   "execution_count": 6,
   "metadata": {},
   "outputs": [],
   "source": [
    "date_format = \"%Y%m%d\""
   ]
  },
  {
   "cell_type": "code",
   "execution_count": 7,
   "metadata": {},
   "outputs": [],
   "source": [
    "first_date = \"20210401\""
   ]
  },
  {
   "cell_type": "code",
   "execution_count": 8,
   "metadata": {},
   "outputs": [],
   "source": [
    "last_date_to_compute = (datetime.now() - timedelta(days=1)).strftime(date_format)"
   ]
  },
  {
   "cell_type": "markdown",
   "metadata": {},
   "source": [
    "# Manage execution dates"
   ]
  },
  {
   "cell_type": "code",
   "execution_count": 9,
   "metadata": {},
   "outputs": [
    {
     "name": "stdout",
     "output_type": "stream",
     "text": [
      "No dates to execute\n"
     ]
    },
    {
     "ename": "SystemExit",
     "evalue": "0",
     "output_type": "error",
     "traceback": [
      "An exception has occurred, use %tb to see the full traceback.\n",
      "\u001b[0;31mSystemExit\u001b[0m\u001b[0;31m:\u001b[0m 0\n"
     ]
    },
    {
     "name": "stderr",
     "output_type": "stream",
     "text": [
      "/srv/conda/envs/notebook/lib/python3.8/site-packages/IPython/core/interactiveshell.py:3426: UserWarning: To exit: use 'exit', 'quit', or Ctrl-D.\n",
      "  warn(\"To exit: use 'exit', 'quit', or Ctrl-D.\", stacklevel=1)\n"
     ]
    }
   ],
   "source": [
    "last_computed_date = read_sql(\n",
    "    f'''\n",
    "    SELECT max(processing_date) \n",
    "    FROM dedicated.airports.airport_stops\n",
    "    ''').iloc[0][0]\n",
    "\n",
    "if last_computed_date is None:\n",
    "    first_date_to_compute = first_date\n",
    "    message = f\"\"\"\n",
    "        No computed dates yet\n",
    "        Computation will start from {first_date_to_compute}\n",
    "        Computation will end at {last_date_to_compute}\n",
    "        \"\"\"\n",
    "else:\n",
    "    first_date_to_compute = datetime.strftime(\n",
    "        datetime.strptime(str(last_computed_date), date_format) + timedelta(days=1), \n",
    "        date_format\n",
    "    )\n",
    "    if first_date_to_compute > last_date_to_compute:\n",
    "        print(\"No dates to execute\")\n",
    "        sys.exit(0)\n",
    "    else:\n",
    "        message = f\"\"\"\n",
    "            Last computed date: {last_computed_date}\n",
    "            Computation will start from {first_date_to_compute}\n",
    "            Computation will end at {last_date_to_compute}\n",
    "            \"\"\"\n",
    "\n",
    "print(message)"
   ]
  },
  {
   "cell_type": "code",
   "execution_count": null,
   "metadata": {},
   "outputs": [],
   "source": [
    "dates_to_compute = get_dates_sequence(first_date_to_compute, last_date_to_compute, date_format)"
   ]
  },
  {
   "cell_type": "markdown",
   "metadata": {},
   "source": [
    "# Stops intersected with the top 30 Commercial Service Airports"
   ]
  },
  {
   "cell_type": "code",
   "execution_count": 15,
   "metadata": {},
   "outputs": [],
   "source": [
    "query_stops_unfiltered_string = \"with stops as (select * from cuebiq.paas_cda.stop where processing_date = %(i)s), \\\n",
    "\\\n",
    "airport_geo as (select * from dedicated.airports.airport_wkt), \\\n",
    "\\\n",
    "tmp as (select s.cuebiq_id, \\\n",
    "s.device_type_code, \\\n",
    "s.lat, \\\n",
    "s.lng, \\\n",
    "s.geohash_id, \\\n",
    "s.cluster_size, \\\n",
    "s.avg_distance_meters, \\\n",
    "s.avg_accuracy_meters, \\\n",
    "s.std_accuracy_meters, \\\n",
    "s.dwell_time_minutes, \\\n",
    "s.stop_zoned_datetime, \\\n",
    "substr(cast(from_iso8601_timestamp(s.stop_zoned_datetime) as varchar(10)),1,10) local_date, \\\n",
    "s.timezone_offset_seconds, \\\n",
    "s.processing_date, \\\n",
    "s.country_code, \\\n",
    "a.city, \\\n",
    "a.airport_name \\\n",
    "from stops s inner join airport_geo a on st_contains(st_geometryfromtext(a.geometry),st_point(s.lng, s.lat)) \\\n",
    "order by cuebiq_id asc, stop_zoned_datetime asc) \\\n",
    "\\\n",
    "select * from tmp\""
   ]
  },
  {
   "cell_type": "code",
   "execution_count": 16,
   "metadata": {},
   "outputs": [
    {
     "name": "stdout",
     "output_type": "stream",
     "text": [
      "with stops as (select * from cuebiq.paas_cda.stop where processing_date = 20210329), airport_geo as (select * from dedicated.airports.airport_wkt), tmp as (select s.cuebiq_id, s.device_type_code, s.lat, s.lng, s.geohash_id, s.cluster_size, s.avg_distance_meters, s.avg_accuracy_meters, s.std_accuracy_meters, s.dwell_time_minutes, s.stop_zoned_datetime, substr(cast(from_iso8601_timestamp(s.stop_zoned_datetime) as varchar(10)),1,10) local_date, s.timezone_offset_seconds, s.processing_date, s.country_code, a.city, a.airport_name, a.geometry from stops s inner join airport_geo a on st_contains(st_geometryfromtext(a.geometry),st_point(s.lng, s.lat)) order by cuebiq_id asc, stop_zoned_datetime asc) select * from tmp\n",
      " * presto://localhost:9090/cuebiq/\n",
      "Done.\n",
      "160500\n",
      "with stops as (select * from cuebiq.paas_cda.stop where processing_date = 20210330), airport_geo as (select * from dedicated.airports.airport_wkt), tmp as (select s.cuebiq_id, s.device_type_code, s.lat, s.lng, s.geohash_id, s.cluster_size, s.avg_distance_meters, s.avg_accuracy_meters, s.std_accuracy_meters, s.dwell_time_minutes, s.stop_zoned_datetime, substr(cast(from_iso8601_timestamp(s.stop_zoned_datetime) as varchar(10)),1,10) local_date, s.timezone_offset_seconds, s.processing_date, s.country_code, a.city, a.airport_name, a.geometry from stops s inner join airport_geo a on st_contains(st_geometryfromtext(a.geometry),st_point(s.lng, s.lat)) order by cuebiq_id asc, stop_zoned_datetime asc) select * from tmp\n",
      " * presto://localhost:9090/cuebiq/\n",
      "Done.\n",
      "144122\n",
      "with stops as (select * from cuebiq.paas_cda.stop where processing_date = 20210331), airport_geo as (select * from dedicated.airports.airport_wkt), tmp as (select s.cuebiq_id, s.device_type_code, s.lat, s.lng, s.geohash_id, s.cluster_size, s.avg_distance_meters, s.avg_accuracy_meters, s.std_accuracy_meters, s.dwell_time_minutes, s.stop_zoned_datetime, substr(cast(from_iso8601_timestamp(s.stop_zoned_datetime) as varchar(10)),1,10) local_date, s.timezone_offset_seconds, s.processing_date, s.country_code, a.city, a.airport_name, a.geometry from stops s inner join airport_geo a on st_contains(st_geometryfromtext(a.geometry),st_point(s.lng, s.lat)) order by cuebiq_id asc, stop_zoned_datetime asc) select * from tmp\n",
      " * presto://localhost:9090/cuebiq/\n",
      "Done.\n",
      "141622\n",
      "with stops as (select * from cuebiq.paas_cda.stop where processing_date = 20210401), airport_geo as (select * from dedicated.airports.airport_wkt), tmp as (select s.cuebiq_id, s.device_type_code, s.lat, s.lng, s.geohash_id, s.cluster_size, s.avg_distance_meters, s.avg_accuracy_meters, s.std_accuracy_meters, s.dwell_time_minutes, s.stop_zoned_datetime, substr(cast(from_iso8601_timestamp(s.stop_zoned_datetime) as varchar(10)),1,10) local_date, s.timezone_offset_seconds, s.processing_date, s.country_code, a.city, a.airport_name, a.geometry from stops s inner join airport_geo a on st_contains(st_geometryfromtext(a.geometry),st_point(s.lng, s.lat)) order by cuebiq_id asc, stop_zoned_datetime asc) select * from tmp\n",
      " * presto://localhost:9090/cuebiq/\n",
      "Done.\n",
      "154591\n"
     ]
    }
   ],
   "source": [
    "for i in dates_to_compute:\n",
    "    print(f\"Executing for {i}...\")\n",
    "    query = query_stops_unfiltered_string % {'i':i}\n",
    "    print(query)\n",
    "    res = %sql create table if not exists dedicated.airports.airport_stops as {query}\n",
    "    print(f\"created {res['rows'][0]} rows\")\n",
    "    succedeed=int(res['rows'][0])\n",
    "    if succedeed==0:\n",
    "        #first time you create if not insert\n",
    "        res= %sql insert into dedicated.airports.airport_stops {query}\n",
    "        print(f\"inserted {res['rows'][0]} rows\")"
   ]
  }
 ],
 "metadata": {
  "kernelspec": {
   "display_name": "Python 3",
   "language": "python",
   "name": "python3"
  },
  "language_info": {
   "codemirror_mode": {
    "name": "ipython",
    "version": 3
   },
   "file_extension": ".py",
   "mimetype": "text/x-python",
   "name": "python",
   "nbconvert_exporter": "python",
   "pygments_lexer": "ipython3",
   "version": "3.8.6"
  }
 },
 "nbformat": 4,
 "nbformat_minor": 4
}

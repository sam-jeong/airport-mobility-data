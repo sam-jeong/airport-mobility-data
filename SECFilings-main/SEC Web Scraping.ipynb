{
 "cells": [
  {
   "cell_type": "code",
   "execution_count": 1,
   "metadata": {},
   "outputs": [],
   "source": [
    "import requests\n",
    "import re\n",
    "import bs4\n",
    "import pandas as pd"
   ]
  },
  {
   "cell_type": "code",
   "execution_count": 2,
   "metadata": {},
   "outputs": [
    {
     "name": "stdout",
     "output_type": "stream",
     "text": [
      "EDGAR Search Result URLhttps://www.sec.gov/cgi-bin/browse-edgar?action=getcompany&CIK=0000027904&owner=exclude&count=100\n"
     ]
    }
   ],
   "source": [
    "# Set up\n",
    "# 1. Go to SEC EDGAR Company Search\n",
    "# 2. Type in Filing Type (ex. 10-K, 100 Entries, Search All)\n",
    "# 3. Paste the URL into this code\n",
    "# 4. Extract Accession Codes to \n",
    "\n",
    "URL = input('EDGAR Search Result URL')\n",
    "\n",
    "DAL = 'https://www.sec.gov/cgi-bin/browse-edgar?action=getcompany&CIK=0000027904&owner=exclude&count=100'"
   ]
  },
  {
   "cell_type": "code",
   "execution_count": 3,
   "metadata": {},
   "outputs": [],
   "source": [
    "def get_next_page(someURL, start):\n",
    "    # check if the next page exists based on the inputted URL\n",
    "    someRes = requests.get(someURL)\n",
    "    someSoup = bs4.BeautifulSoup(someRes.text,'html.parser')\n",
    "    some_nextButton = someSoup.find_all('input', type = 'button', value = \"Next 100\", limit = 1)\n",
    "    \n",
    "    if not some_nextButton:\n",
    "        start = start + 100\n",
    "        newURL = someURL + '&start=' + str(start)\n",
    "        return newURL\n",
    "    \n",
    "    # if it exists return the newURL\n",
    "    newURL = someURL + '&start=' + str(start)\n",
    "    \n",
    "    return newURL"
   ]
  },
  {
   "cell_type": "code",
   "execution_count": 4,
   "metadata": {},
   "outputs": [],
   "source": [
    "def get_filings(somePage):\n",
    "    someRes = requests.get(somePage)\n",
    "    someSoup = bs4.BeautifulSoup(someRes.text,'html.parser')\n",
    "    \n",
    "    descriptions = []\n",
    "    \n",
    "    for i in someSoup.find_all('tr'):\n",
    "        for j in i.find_all('a', attrs = {'href' : re.compile('Archives')}):\n",
    "            if '10-Q' in i.text or '10-K' in i.text:\n",
    "                descriptions.append(i.text)\n",
    "                \n",
    "    # Clean Up\n",
    "    filingType = []\n",
    "    for i in descriptions:\n",
    "        if '10-Q' in i:\n",
    "            filingType.append('10-Q')\n",
    "        if '10-K' in i:\n",
    "            filingType.append('10-K')\n",
    "    \n",
    "    return filingType"
   ]
  },
  {
   "cell_type": "code",
   "execution_count": 5,
   "metadata": {},
   "outputs": [],
   "source": [
    "def get_links(somePage):\n",
    "    someRes = requests.get(somePage)\n",
    "    someSoup = bs4.BeautifulSoup(someRes.text,'html.parser')\n",
    "    \n",
    "    links = []\n",
    "    for i in someSoup.find_all('tr'):\n",
    "        for j in i.find_all('a', attrs = {'href' : re.compile('Archives')}):\n",
    "            if '10-Q' in i.text or '10-K' in i.text:\n",
    "                links.append(j.get('href'))\n",
    "    \n",
    "    return links"
   ]
  },
  {
   "cell_type": "code",
   "execution_count": 6,
   "metadata": {},
   "outputs": [],
   "source": [
    "start = []\n",
    "num = 100\n",
    "while num < 2000:\n",
    "    start.append(num)\n",
    "    num += 100"
   ]
  },
  {
   "cell_type": "code",
   "execution_count": 7,
   "metadata": {},
   "outputs": [],
   "source": [
    "pages = []\n",
    "for i in start:\n",
    "    pages.append(get_next_page(URL,i))"
   ]
  },
  {
   "cell_type": "code",
   "execution_count": 8,
   "metadata": {},
   "outputs": [],
   "source": [
    "real_pages = []\n",
    "\n",
    "for i in pages:\n",
    "    someRes = requests.get(i)\n",
    "    someSoup = bs4.BeautifulSoup(someRes.text,'html.parser')\n",
    "    some_nextButton = someSoup.find_all('input', type = 'button', value = \"Next 100\", limit = 1)\n",
    "    \n",
    "    if not some_nextButton:\n",
    "        pass\n",
    "    else:\n",
    "        real_pages.append(i)"
   ]
  },
  {
   "cell_type": "code",
   "execution_count": 9,
   "metadata": {},
   "outputs": [],
   "source": [
    "all_filings = []\n",
    "for i in real_pages:\n",
    "    all_filings.append(get_filings(i))"
   ]
  },
  {
   "cell_type": "code",
   "execution_count": 10,
   "metadata": {},
   "outputs": [],
   "source": [
    "all_links = []\n",
    "for i in real_pages:\n",
    "    all_links.append(get_links(i))"
   ]
  },
  {
   "cell_type": "code",
   "execution_count": 11,
   "metadata": {},
   "outputs": [],
   "source": [
    "filings = []\n",
    "for i in all_filings:\n",
    "    filings.extend(i)\n",
    "    \n",
    "links =[]\n",
    "\n",
    "for i in all_links:\n",
    "    links.extend(i)\n",
    "    \n",
    "df = pd.DataFrame({'Filings':filings,'Links':links})"
   ]
  },
  {
   "cell_type": "code",
   "execution_count": 12,
   "metadata": {},
   "outputs": [
    {
     "data": {
      "text/html": [
       "<div>\n",
       "<style scoped>\n",
       "    .dataframe tbody tr th:only-of-type {\n",
       "        vertical-align: middle;\n",
       "    }\n",
       "\n",
       "    .dataframe tbody tr th {\n",
       "        vertical-align: top;\n",
       "    }\n",
       "\n",
       "    .dataframe thead th {\n",
       "        text-align: right;\n",
       "    }\n",
       "</style>\n",
       "<table border=\"1\" class=\"dataframe\">\n",
       "  <thead>\n",
       "    <tr style=\"text-align: right;\">\n",
       "      <th></th>\n",
       "      <th>Filings</th>\n",
       "      <th>Links</th>\n",
       "    </tr>\n",
       "  </thead>\n",
       "  <tbody>\n",
       "    <tr>\n",
       "      <th>0</th>\n",
       "      <td>10-Q</td>\n",
       "      <td>/Archives/edgar/data/27904/000002790418000020/...</td>\n",
       "    </tr>\n",
       "    <tr>\n",
       "      <th>1</th>\n",
       "      <td>10-Q</td>\n",
       "      <td>/Archives/edgar/data/27904/000002790418000016/...</td>\n",
       "    </tr>\n",
       "    <tr>\n",
       "      <th>2</th>\n",
       "      <td>10-Q</td>\n",
       "      <td>/Archives/edgar/data/27904/000002790418000013/...</td>\n",
       "    </tr>\n",
       "    <tr>\n",
       "      <th>3</th>\n",
       "      <td>10-K</td>\n",
       "      <td>/Archives/edgar/data/27904/000002790418000006/...</td>\n",
       "    </tr>\n",
       "    <tr>\n",
       "      <th>4</th>\n",
       "      <td>10-Q</td>\n",
       "      <td>/Archives/edgar/data/27904/000002790417000017/...</td>\n",
       "    </tr>\n",
       "    <tr>\n",
       "      <th>...</th>\n",
       "      <td>...</td>\n",
       "      <td>...</td>\n",
       "    </tr>\n",
       "    <tr>\n",
       "      <th>86</th>\n",
       "      <td>10-Q</td>\n",
       "      <td>/Archives/edgar/data/27904/0000950144-00-00678...</td>\n",
       "    </tr>\n",
       "    <tr>\n",
       "      <th>87</th>\n",
       "      <td>10-Q</td>\n",
       "      <td>/Archives/edgar/data/27904/0000950144-00-00217...</td>\n",
       "    </tr>\n",
       "    <tr>\n",
       "      <th>88</th>\n",
       "      <td>10-Q</td>\n",
       "      <td>/Archives/edgar/data/27904/0000950144-99-01327...</td>\n",
       "    </tr>\n",
       "    <tr>\n",
       "      <th>89</th>\n",
       "      <td>10-K</td>\n",
       "      <td>/Archives/edgar/data/27904/0000950144-99-01146...</td>\n",
       "    </tr>\n",
       "    <tr>\n",
       "      <th>90</th>\n",
       "      <td>10-Q</td>\n",
       "      <td>/Archives/edgar/data/27904/0000950144-99-00594...</td>\n",
       "    </tr>\n",
       "  </tbody>\n",
       "</table>\n",
       "<p>91 rows × 2 columns</p>\n",
       "</div>"
      ],
      "text/plain": [
       "   Filings                                              Links\n",
       "0     10-Q  /Archives/edgar/data/27904/000002790418000020/...\n",
       "1     10-Q  /Archives/edgar/data/27904/000002790418000016/...\n",
       "2     10-Q  /Archives/edgar/data/27904/000002790418000013/...\n",
       "3     10-K  /Archives/edgar/data/27904/000002790418000006/...\n",
       "4     10-Q  /Archives/edgar/data/27904/000002790417000017/...\n",
       "..     ...                                                ...\n",
       "86    10-Q  /Archives/edgar/data/27904/0000950144-00-00678...\n",
       "87    10-Q  /Archives/edgar/data/27904/0000950144-00-00217...\n",
       "88    10-Q  /Archives/edgar/data/27904/0000950144-99-01327...\n",
       "89    10-K  /Archives/edgar/data/27904/0000950144-99-01146...\n",
       "90    10-Q  /Archives/edgar/data/27904/0000950144-99-00594...\n",
       "\n",
       "[91 rows x 2 columns]"
      ]
     },
     "execution_count": 12,
     "metadata": {},
     "output_type": "execute_result"
    }
   ],
   "source": [
    "df"
   ]
  }
 ],
 "metadata": {
  "kernelspec": {
   "display_name": "Python 3",
   "language": "python",
   "name": "python3"
  },
  "language_info": {
   "codemirror_mode": {
    "name": "ipython",
    "version": 3
   },
   "file_extension": ".py",
   "mimetype": "text/x-python",
   "name": "python",
   "nbconvert_exporter": "python",
   "pygments_lexer": "ipython3",
   "version": "3.8.5"
  }
 },
 "nbformat": 4,
 "nbformat_minor": 4
}
